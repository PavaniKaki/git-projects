{
  "nbformat": 4,
  "nbformat_minor": 0,
  "metadata": {
    "colab": {
      "provenance": [],
      "authorship_tag": "ABX9TyP775F9rsJjhFHmXDkRJTLX",
      "include_colab_link": true
    },
    "kernelspec": {
      "name": "python3",
      "display_name": "Python 3"
    },
    "language_info": {
      "name": "python"
    }
  },
  "cells": [
    {
      "cell_type": "markdown",
      "metadata": {
        "id": "view-in-github",
        "colab_type": "text"
      },
      "source": [
        "<a href=\"https://colab.research.google.com/github/PavaniKaki/git-projects/blob/main/160122729007.ipynb\" target=\"_parent\"><img src=\"https://colab.research.google.com/assets/colab-badge.svg\" alt=\"Open In Colab\"/></a>"
      ]
    },
    {
      "cell_type": "code",
      "execution_count": null,
      "metadata": {
        "id": "8q3jl2AzqxTj"
      },
      "outputs": [],
      "source": [
        "import numpy as np"
      ]
    },
    {
      "cell_type": "code",
      "source": [
        "def value_iteration(num_states, num_actions, transition_probs, rewards, discount_factor, epsilon=0.01):\n",
        "    V = np.zeros(num_states)\n",
        "    while True:\n",
        "        delta = 0\n",
        "        for s in range(num_states):\n",
        "            v_old = V[s]\n",
        "            V[s] = max([sum([transition_probs[s][a][s_prime] * (rewards[s][a] +\n",
        "                      discount_factor * V[s_prime]) for s_prime in range(num_states)])\n",
        "                      for a in range(num_actions)])\n",
        "            delta = max(delta, abs(v_old - V[s]))\n",
        "        if delta < epsilon:\n",
        "            break\n",
        "    return V\n",
        "num_states = 3\n",
        "num_actions = 2\n",
        "transition_probs = np.array([[[0.7, 0.3, 0.0], [0.0, 0.8, 0.2]],\n",
        "                             [[0.8, 0.2, 0.0], [0.1, 0.8, 0.1]],\n",
        "                             [[0.0, 0.6, 0.4], [0.0, 0.0, 1.0]]])\n",
        "rewards = np.array([[5, 10], [1, -1], [0, 0]])\n",
        "discount_factor = 0.9\n",
        "\n",
        "optimal_values = value_iteration(num_states, num_actions, transition_probs, rewards, discount_factor)\n",
        "print(\"Optimal values:\", optimal_values)"
      ],
      "metadata": {
        "id": "WtBAOBaRq6-B",
        "outputId": "1f964ac3-00ee-48db-8361-381ce5620f1e",
        "colab": {
          "base_uri": "https://localhost:8080/"
        }
      },
      "execution_count": null,
      "outputs": [
        {
          "output_type": "stream",
          "name": "stdout",
          "text": [
            "Optimal values: [47.14776993 42.61580563 35.95278465]\n"
          ]
        }
      ]
    }
  ]
}